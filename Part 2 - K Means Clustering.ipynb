{
 "cells": [
  {
   "cell_type": "code",
   "execution_count": 4,
   "metadata": {},
   "outputs": [],
   "source": [
    "import csv\n",
    "import pandas as pd\n",
    "import numpy as np\n",
    "from patsy import dmatrices\n",
    "from pulp import *\n",
    "import matplotlib.pyplot as plt\n",
    "\n",
    "\n",
    "from sklearn.pipeline import Pipeline\n",
    "from sklearn.linear_model import Ridge\n",
    "from sklearn.linear_model import LogisticRegression\n",
    "from sklearn.linear_model import LinearRegression\n",
    "from sklearn.preprocessing import Normalizer\n",
    "from sklearn.preprocessing import MinMaxScaler\n",
    "from sklearn.preprocessing import StandardScaler\n",
    "from sklearn.preprocessing import OneHotEncoder\n",
    "\n",
    "\n",
    "from sklearn.model_selection import train_test_split\n",
    "from sklearn.metrics import mean_absolute_error\n",
    "from sklearn.metrics import mean_squared_error\n",
    "#from sklearn.metrics import mean_poisson_deviance\n",
    "from sklearn.model_selection import cross_val_score\n",
    "\n",
    "import seaborn as sns\n",
    "from sklearn.cluster import KMeans\n",
    "\n",
    "import statsmodels.api as sm\n",
    "\n",
    "calcio_A = pd.read_pickle(\"calcio_A.pk1\")\n",
    "calcio_C = pd.read_pickle(\"calcio_C.pk1\")\n",
    "calcio_D = pd.read_pickle(\"calcio_D.pk1\")\n",
    "calcio = pd.read_pickle(\"calcio.pk1\")"
   ]
  },
  {
   "cell_type": "markdown",
   "metadata": {},
   "source": [
    "# Part 2: K-Means Clustering\n",
    "\n",
    "Instead of looking at individual players where there can be large errors in predicted value, as seen in part 1, we will classify the players from each groups (A, C, D) into clusters by implementing k-means clustering\n",
    "\n",
    "The below code is used to iterrate over the possible amount of clusters, and we add the WCSS value for each into a series so we can analyze it with a graph. WCSS is the sum of squared distance between each point and the centroid in a cluster. We use matplotlib to plot the WCSS vs size of cluster, and we will use the \"Elbow Method\" to find the appropriate amount.\n"
   ]
  },
  {
   "cell_type": "code",
   "execution_count": 5,
   "metadata": {},
   "outputs": [],
   "source": [
    "wcss = []\n",
    "for i in range(1, 11):\n",
    "    kmeans = KMeans(n_clusters = i, init = 'k-means++', random_state = 42)\n",
    "    kmeans.fit(np.array(calcio_A[\"20/21_Value\"]).reshape(-1,1))\n",
    "    wcss.append(kmeans.inertia_)"
   ]
  },
  {
   "cell_type": "code",
   "execution_count": 6,
   "metadata": {},
   "outputs": [
    {
     "data": {
      "image/png": "[encoded data removed]",
      "text/plain": [
       "<Figure size 720x360 with 1 Axes>"
      ]
     },
     "metadata": {
      "needs_background": "light"
     },
     "output_type": "display_data"
    }
   ],
   "source": [
    "plt.figure(figsize=(10,5))\n",
    "sns.lineplot(range(1, 11), wcss,marker='o',color='red')\n",
    "plt.title('The Elbow Method')\n",
    "plt.xlabel('Number of clusters')\n",
    "plt.ylabel('WCSS')\n",
    "plt.show()\n",
    "\n",
    "#KMEANS: Calcio_A = 3, C = 3, D = 3\n"
   ]
  },
  {
   "cell_type": "markdown",
   "metadata": {},
   "source": [
    "Above we see the plotted graph. The Elbow Method requires us to see at what point the drop off in WCSS becomes less drastic. We want to minimize WCSS so that the points are closer to the centroids, but at the same time we don't want to overfit and create too many clusters. We can see the elbow point is at 3 clusters. There is an argument for 4 too as the line still has some noticable gradient between 3 and 4, but for simplicity sake we will take our amount of clusters as 3. \n",
    "\n",
    "These we can then classify as Low, Medium and High. In this demonstration the data was run for the attackers only, but I ran the test of the Defenders and Midfielders too with similar results. We will classify the players in each group into 3 clusters."
   ]
  },
  {
   "cell_type": "markdown",
   "metadata": {},
   "source": [
    "Now we can perform the clustering over each group. We put the cluster value for each player into a new column \"cluster\". However, the numbers here will change every time the code is run. One run the highest tier could be cluster 2, and the next time cluster 3. Because of this, we create another column \"Tier\" and for now label every player \"Mid\"."
   ]
  },
  {
   "cell_type": "code",
   "execution_count": 7,
   "metadata": {},
   "outputs": [],
   "source": [
    "players = [calcio_A, calcio_C, calcio_D] \n",
    "\n",
    "for i in players:\n",
    "\n",
    "    kmeans = KMeans(n_clusters = 3, init = 'k-means++', random_state = 42)\n",
    "    y_kmeans = kmeans.fit_predict(np.array(i[\"21/22_Value\"]).reshape(-1,1))\n",
    "    \n",
    "    \n",
    "    i[\"cluster\"] = y_kmeans.tolist()\n",
    "    \n",
    "    i[\"Tier\"] = \"Mid\"   \n",
    "    "
   ]
  },
  {
   "cell_type": "markdown",
   "metadata": {},
   "source": [
    "Another compensation is added here due to a defense modifier in the game. If you start with 4 defenders, you get +1 point every time they average a rating of 6 between them, and +3 if they average a rating of 6.5. The potential to contribute to these additional points earns each defender a boost of 0.16 points per game, which we add on in order to capture this."
   ]
  },
  {
   "cell_type": "code",
   "execution_count": 8,
   "metadata": {},
   "outputs": [
    {
     "name": "stderr",
     "output_type": "stream",
     "text": [
      "C:\\Users\\Stevan\\Anaconda3\\lib\\site-packages\\pandas\\core\\indexing.py:205: SettingWithCopyWarning: \n",
      "A value is trying to be set on a copy of a slice from a DataFrame\n",
      "\n",
      "See the caveats in the documentation: http://pandas.pydata.org/pandas-docs/stable/user_guide/indexing.html#returning-a-view-versus-a-copy\n",
      "  self._setitem_with_indexer(indexer, value)\n"
     ]
    }
   ],
   "source": [
    "calcio[\"2 YR AVG\"].loc[calcio[\"R\"] == \"D\"] += 0.16"
   ]
  },
  {
   "cell_type": "markdown",
   "metadata": {},
   "source": [
    "Below, we assign each cluster to the Low, Mid or High categories. We take the mean of each \"Tier\" and use if statements to determine if they are lower or higher than the other means, and use these statements to determine which Tier is which.\n",
    "\n",
    "We create a new dataframe called calcio again and append the split dataframes into it, to get all our data back in once place."
   ]
  },
  {
   "cell_type": "code",
   "execution_count": 9,
   "metadata": {
    "scrolled": true
   },
   "outputs": [
    {
     "name": "stderr",
     "output_type": "stream",
     "text": [
      "C:\\Users\\Stevan\\Anaconda3\\lib\\site-packages\\ipykernel_launcher.py:16: SettingWithCopyWarning: \n",
      "A value is trying to be set on a copy of a slice from a DataFrame.\n",
      "Try using .loc[row_indexer,col_indexer] = value instead\n",
      "\n",
      "See the caveats in the documentation: http://pandas.pydata.org/pandas-docs/stable/user_guide/indexing.html#returning-a-view-versus-a-copy\n",
      "  app.launch_new_instance()\n",
      "C:\\Users\\Stevan\\Anaconda3\\lib\\site-packages\\ipykernel_launcher.py:32: SettingWithCopyWarning: \n",
      "A value is trying to be set on a copy of a slice from a DataFrame.\n",
      "Try using .loc[row_indexer,col_indexer] = value instead\n",
      "\n",
      "See the caveats in the documentation: http://pandas.pydata.org/pandas-docs/stable/user_guide/indexing.html#returning-a-view-versus-a-copy\n",
      "C:\\Users\\Stevan\\Anaconda3\\lib\\site-packages\\ipykernel_launcher.py:20: SettingWithCopyWarning: \n",
      "A value is trying to be set on a copy of a slice from a DataFrame.\n",
      "Try using .loc[row_indexer,col_indexer] = value instead\n",
      "\n",
      "See the caveats in the documentation: http://pandas.pydata.org/pandas-docs/stable/user_guide/indexing.html#returning-a-view-versus-a-copy\n",
      "C:\\Users\\Stevan\\Anaconda3\\lib\\site-packages\\ipykernel_launcher.py:35: SettingWithCopyWarning: \n",
      "A value is trying to be set on a copy of a slice from a DataFrame.\n",
      "Try using .loc[row_indexer,col_indexer] = value instead\n",
      "\n",
      "See the caveats in the documentation: http://pandas.pydata.org/pandas-docs/stable/user_guide/indexing.html#returning-a-view-versus-a-copy\n",
      "C:\\Users\\Stevan\\Anaconda3\\lib\\site-packages\\ipykernel_launcher.py:23: SettingWithCopyWarning: \n",
      "A value is trying to be set on a copy of a slice from a DataFrame.\n",
      "Try using .loc[row_indexer,col_indexer] = value instead\n",
      "\n",
      "See the caveats in the documentation: http://pandas.pydata.org/pandas-docs/stable/user_guide/indexing.html#returning-a-view-versus-a-copy\n"
     ]
    }
   ],
   "source": [
    "calcio = pd.DataFrame()\n",
    "\n",
    "for i in [calcio_A, calcio_C, calcio_D]:\n",
    "\n",
    "    Tier0 = i.loc[i[\"cluster\"] == 0]\n",
    "    Tier1 = i.loc[i[\"cluster\"] == 1] \n",
    "    Tier2 = i.loc[i[\"cluster\"] == 2]\n",
    "\n",
    "    mean0 = (Tier0[\"21/22_Value\"].mean())\n",
    "    mean1 = (Tier1[\"21/22_Value\"].mean())\n",
    "    mean2 = (Tier2[\"21/22_Value\"].mean())\n",
    "    \n",
    "    #TierHigh\n",
    "    if mean0 > mean1 and mean0 > mean2:\n",
    "        \n",
    "        Tier0[\"Tier\"] = \"Hig\"\n",
    "        \n",
    "    elif mean1 > mean0 and mean1 > mean2:\n",
    "        \n",
    "        Tier1[\"Tier\"] = \"Hig\"\n",
    "    \n",
    "    else:\n",
    "        Tier2[\"Tier\"] = \"Hig\"\n",
    "        \n",
    "    #TierLow\n",
    "    if mean0 < mean1 and mean0 < mean2:\n",
    "        \n",
    "        Tier0[\"Tier\"] = \"Low\"\n",
    "    \n",
    "    elif mean1 < mean0 and mean1 < mean2:\n",
    "        \n",
    "        Tier1[\"Tier\"] = \"Low\"\n",
    "        \n",
    "    else:\n",
    "        Tier2[\"Tier\"] = \"Low\"\n",
    "        \n",
    "    \n",
    "            \n",
    "    i = Tier0.append([Tier1, Tier2])\n",
    "    \n",
    "    calcio = calcio.append(i)\n",
    "     "
   ]
  },
  {
   "cell_type": "code",
   "execution_count": 10,
   "metadata": {},
   "outputs": [],
   "source": [
    "calcio_A.to_pickle(\"calcio_A.pk1\")\n",
    "calcio_C.to_pickle(\"calcio_C.pk1\")\n",
    "calcio_D.to_pickle(\"calcio_D.pk1\")\n",
    "calcio.to_pickle(\"calcio.pk1\")"
   ]
  },
  {
   "cell_type": "code",
   "execution_count": null,
   "metadata": {},
   "outputs": [],
   "source": []
  },
  {
   "cell_type": "code",
   "execution_count": null,
   "metadata": {},
   "outputs": [],
   "source": []
  },
  {
   "cell_type": "code",
   "execution_count": null,
   "metadata": {},
   "outputs": [],
   "source": []
  }
 ],
 "metadata": {
  "kernelspec": {
   "display_name": "Python 3",
   "language": "python",
   "name": "python3"
  },
  "language_info": {
   "codemirror_mode": {
    "name": "ipython",
    "version": 3
   },
   "file_extension": ".py",
   "mimetype": "text/x-python",
   "name": "python",
   "nbconvert_exporter": "python",
   "pygments_lexer": "ipython3",
   "version": "3.7.4"
  }
 },
 "nbformat": 4,
 "nbformat_minor": 2
}
